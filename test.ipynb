{
 "cells": [
  {
   "cell_type": "code",
   "execution_count": 1,
   "metadata": {},
   "outputs": [],
   "source": [
    "from pyspark.sql import SparkSession\n",
    "from pyspark.rdd import RDD\n",
    "\n",
    "from AWSTools import S3BytesRDDUploader"
   ]
  },
  {
   "cell_type": "code",
   "execution_count": 2,
   "metadata": {},
   "outputs": [],
   "source": [
    "sc = SparkSession.builder.appName(\"S3BytesRDDUploader Test\").getOrCreate().sparkContext\n",
    "\n",
    "a = 1024*1024//5\n",
    "b = 1024*1024//10\n",
    "rdds = [ sc.parallelize([b'x'*(1+a*i+b*j) for j in range(10)]) for i in range(5) ]"
   ]
  },
  {
   "cell_type": "code",
   "execution_count": 3,
   "metadata": {},
   "outputs": [
    {
     "data": {
      "text/plain": [
       "[b'123',\n",
       " ParallelCollectionRDD[0] at readRDDFromFile at PythonRDD.scala:274,\n",
       " ParallelCollectionRDD[1] at readRDDFromFile at PythonRDD.scala:274,\n",
       " ParallelCollectionRDD[2] at readRDDFromFile at PythonRDD.scala:274,\n",
       " ParallelCollectionRDD[3] at readRDDFromFile at PythonRDD.scala:274,\n",
       " ParallelCollectionRDD[4] at readRDDFromFile at PythonRDD.scala:274,\n",
       " b'dog',\n",
       " b'banana',\n",
       " b'cat',\n",
       " b'boo',\n",
       " ParallelCollectionRDD[1] at readRDDFromFile at PythonRDD.scala:274,\n",
       " ParallelCollectionRDD[2] at readRDDFromFile at PythonRDD.scala:274,\n",
       " b'hiss',\n",
       " b' tire',\n",
       " b'bird',\n",
       " ParallelCollectionRDD[2] at readRDDFromFile at PythonRDD.scala:274,\n",
       " ParallelCollectionRDD[3] at readRDDFromFile at PythonRDD.scala:274,\n",
       " ParallelCollectionRDD[4] at readRDDFromFile at PythonRDD.scala:274,\n",
       " b'byebye',\n",
       " ParallelCollectionRDD[0] at readRDDFromFile at PythonRDD.scala:274]"
      ]
     },
     "execution_count": 3,
     "metadata": {},
     "output_type": "execute_result"
    }
   ],
   "source": [
    "s3u = S3BytesRDDUploader('bytes-rdd-test','junk',b\"123\",rdds,[b\"dog\",b\"banana\"],b\"cat\")\n",
    "\n",
    "s3u.add([b'boo',rdds[1:3],b'hiss',b' tire'])\n",
    "s3u.add([b'bird',rdds[2:]])\n",
    "s3u.add(b'byebye',rdds[0])\n",
    "s3u.data"
   ]
  },
  {
   "cell_type": "code",
   "execution_count": 4,
   "metadata": {},
   "outputs": [],
   "source": [
    "s3u.upload()"
   ]
  }
 ],
 "metadata": {
  "kernelspec": {
   "display_name": "Python 3",
   "language": "python",
   "name": "python3"
  },
  "language_info": {
   "codemirror_mode": {
    "name": "ipython",
    "version": 3
   },
   "file_extension": ".py",
   "mimetype": "text/x-python",
   "name": "python",
   "nbconvert_exporter": "python",
   "pygments_lexer": "ipython3",
   "version": "3.8.5"
  }
 },
 "nbformat": 4,
 "nbformat_minor": 4
}

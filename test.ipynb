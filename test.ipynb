{
 "cells": [
  {
   "cell_type": "code",
   "execution_count": 1,
   "metadata": {},
   "outputs": [],
   "source": [
    "from pyspark.sql import SparkSession\n",
    "from pyspark.rdd import RDD\n",
    "\n",
    "from AWSTools import S3BytesRDDUploader"
   ]
  },
  {
   "cell_type": "code",
   "execution_count": 2,
   "metadata": {},
   "outputs": [],
   "source": [
    "sc = SparkSession.builder.appName(\"S3BytesRDDUploader Test\").getOrCreate().sparkContext\n",
    "\n",
    "a = 1024*1024//10\n",
    "b = 1024*1024//5\n",
    "rdds = [ sc.parallelize([b'x'*(1+a*i+b*j) for j in range(10)]) for i in range(5) ]"
   ]
  },
  {
   "cell_type": "code",
   "execution_count": 3,
   "metadata": {},
   "outputs": [
    {
     "data": {
      "text/plain": [
       "[b'123',\n",
       " ParallelCollectionRDD[0] at readRDDFromFile at PythonRDD.scala:274,\n",
       " ParallelCollectionRDD[1] at readRDDFromFile at PythonRDD.scala:274,\n",
       " ParallelCollectionRDD[2] at readRDDFromFile at PythonRDD.scala:274,\n",
       " ParallelCollectionRDD[3] at readRDDFromFile at PythonRDD.scala:274,\n",
       " ParallelCollectionRDD[4] at readRDDFromFile at PythonRDD.scala:274,\n",
       " b'dog',\n",
       " b'banana',\n",
       " b'cat',\n",
       " b'boo',\n",
       " ParallelCollectionRDD[1] at readRDDFromFile at PythonRDD.scala:274,\n",
       " ParallelCollectionRDD[2] at readRDDFromFile at PythonRDD.scala:274,\n",
       " b'hiss',\n",
       " b' tire',\n",
       " b'bird',\n",
       " ParallelCollectionRDD[2] at readRDDFromFile at PythonRDD.scala:274,\n",
       " ParallelCollectionRDD[3] at readRDDFromFile at PythonRDD.scala:274,\n",
       " ParallelCollectionRDD[4] at readRDDFromFile at PythonRDD.scala:274,\n",
       " b'byebye']"
      ]
     },
     "execution_count": 3,
     "metadata": {},
     "output_type": "execute_result"
    }
   ],
   "source": [
    "try:\n",
    "    s3u = S3BytesRDDUploader('bytes-rdd-test','junk',b\"123\",rdds,[b\"dog\",b\"banana\"],b\"cat\")\n",
    "except Exception as e:\n",
    "    print(e)\n",
    "\n",
    "s3u.add([b'boo',rdds[1:3],b'hiss',b' tire'])\n",
    "s3u.add([b'bird',rdds[2:]])\n",
    "s3u.add(b'byebye')\n",
    "s3u.data"
   ]
  },
  {
   "cell_type": "code",
   "execution_count": 4,
   "metadata": {},
   "outputs": [],
   "source": [
    "s3u.upload()"
   ]
  },
  {
   "cell_type": "code",
   "execution_count": 5,
   "metadata": {},
   "outputs": [
    {
     "data": {
      "text/plain": [
       "[(4, (0, 0)),\n",
       " (209716, (0, 1)),\n",
       " (419431, (0, 2)),\n",
       " (629146, (0, 3)),\n",
       " (838861, (0, 4)),\n",
       " (1048576, (0, 5)),\n",
       " (1258291, (0, 6)),\n",
       " (1468006, (0, 7)),\n",
       " (1677721, (1, 8)),\n",
       " (1887436, (1, 9)),\n",
       " (104858, (1, 10)),\n",
       " (314573, (1, 11)),\n",
       " (524288, (1, 12)),\n",
       " (734003, (1, 13)),\n",
       " (943718, (1, 14)),\n",
       " (1153433, (2, 15)),\n",
       " (1363148, (2, 16)),\n",
       " (1572863, (2, 17)),\n",
       " (1782578, (2, 18)),\n",
       " (1992293, (3, 19)),\n",
       " (209715, (3, 20)),\n",
       " (419430, (3, 21)),\n",
       " (629145, (3, 22)),\n",
       " (838860, (3, 23)),\n",
       " (1048575, (3, 24)),\n",
       " (1258290, (3, 25)),\n",
       " (1468005, (4, 26)),\n",
       " (1677720, (4, 27)),\n",
       " (1887435, (4, 28)),\n",
       " (2097150, (4, 29)),\n",
       " (314572, (5, 30)),\n",
       " (524287, (5, 31)),\n",
       " (734002, (5, 32)),\n",
       " (943717, (5, 33)),\n",
       " (1153432, (5, 34)),\n",
       " (1363147, (5, 35)),\n",
       " (1572862, (5, 36)),\n",
       " (1782577, (6, 37)),\n",
       " (1992292, (6, 38)),\n",
       " (2202007, (6, 39)),\n",
       " (419429, (7, 40)),\n",
       " (629144, (7, 41)),\n",
       " (838859, (7, 42)),\n",
       " (1048574, (7, 43)),\n",
       " (1258289, (7, 44)),\n",
       " (1468004, (7, 45)),\n",
       " (1677719, (8, 46)),\n",
       " (1887434, (8, 47)),\n",
       " (2097149, (8, 48)),\n",
       " (2306864, (9, 49)),\n",
       " (104873, (9, 50)),\n",
       " (314573, (9, 51)),\n",
       " (524288, (9, 52)),\n",
       " (734003, (9, 53)),\n",
       " (943718, (9, 54)),\n",
       " (1153433, (9, 55)),\n",
       " (1363148, (10, 56)),\n",
       " (1572863, (10, 57)),\n",
       " (1782578, (10, 58)),\n",
       " (1992293, (10, 59)),\n",
       " (209715, (11, 60)),\n",
       " (419430, (11, 61)),\n",
       " (629145, (11, 62)),\n",
       " (838860, (11, 63)),\n",
       " (1048575, (11, 64)),\n",
       " (1258290, (11, 65)),\n",
       " (1468005, (11, 66)),\n",
       " (1677720, (12, 67)),\n",
       " (1887435, (12, 68)),\n",
       " (2097150, (12, 69)),\n",
       " (209728, (13, 70)),\n",
       " (419430, (13, 71)),\n",
       " (629145, (13, 72)),\n",
       " (838860, (13, 73)),\n",
       " (1048575, (13, 74)),\n",
       " (1258290, (13, 75)),\n",
       " (1468005, (13, 76)),\n",
       " (1677720, (14, 77)),\n",
       " (1887435, (14, 78)),\n",
       " (2097150, (14, 79)),\n",
       " (314572, (15, 80)),\n",
       " (524287, (15, 81)),\n",
       " (734002, (15, 82)),\n",
       " (943717, (15, 83)),\n",
       " (1153432, (15, 84)),\n",
       " (1363147, (15, 85)),\n",
       " (1572862, (15, 86)),\n",
       " (1782577, (16, 87)),\n",
       " (1992292, (16, 88)),\n",
       " (2202007, (16, 89)),\n",
       " (419429, (17, 90)),\n",
       " (629144, (17, 91)),\n",
       " (838859, (17, 92)),\n",
       " (1048574, (17, 93)),\n",
       " (1258289, (17, 94)),\n",
       " (1468004, (17, 95)),\n",
       " (1677719, (18, 96)),\n",
       " (1887434, (18, 97)),\n",
       " (2097149, (18, 98)),\n",
       " (2306870, (19, 99))]"
      ]
     },
     "execution_count": 5,
     "metadata": {},
     "output_type": "execute_result"
    }
   ],
   "source": [
    "s3u.data.map(lambda x:(len(x[0]),x[1])).collect()"
   ]
  },
  {
   "cell_type": "code",
   "execution_count": null,
   "metadata": {},
   "outputs": [],
   "source": []
  }
 ],
 "metadata": {
  "kernelspec": {
   "display_name": "Python 3",
   "language": "python",
   "name": "python3"
  },
  "language_info": {
   "codemirror_mode": {
    "name": "ipython",
    "version": 3
   },
   "file_extension": ".py",
   "mimetype": "text/x-python",
   "name": "python",
   "nbconvert_exporter": "python",
   "pygments_lexer": "ipython3",
   "version": "3.8.5"
  }
 },
 "nbformat": 4,
 "nbformat_minor": 4
}

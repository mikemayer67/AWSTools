{
 "cells": [
  {
   "cell_type": "code",
   "execution_count": 4,
   "metadata": {},
   "outputs": [],
   "source": [
    "import boto3"
   ]
  },
  {
   "cell_type": "code",
   "execution_count": 48,
   "metadata": {},
   "outputs": [
    {
     "data": {
      "text/plain": [
       "{'ResponseMetadata': {'RequestId': '4EEJ8Y9T0EFMG37S',\n",
       "  'HostId': 'y6y2OApRZiE4XD65aclhcebCqSv6B2CU27uZIO0i2EU+6G0MmzHL7tAo3FgYJ8IEqTzLWliP01g=',\n",
       "  'HTTPStatusCode': 200,\n",
       "  'HTTPHeaders': {'x-amz-id-2': 'y6y2OApRZiE4XD65aclhcebCqSv6B2CU27uZIO0i2EU+6G0MmzHL7tAo3FgYJ8IEqTzLWliP01g=',\n",
       "   'x-amz-request-id': '4EEJ8Y9T0EFMG37S',\n",
       "   'date': 'Fri, 04 Feb 2022 05:27:48 GMT',\n",
       "   'content-type': 'application/xml',\n",
       "   'transfer-encoding': 'chunked',\n",
       "   'server': 'AmazonS3'},\n",
       "  'RetryAttempts': 0},\n",
       " 'Bucket': 'bytes-rdd-test',\n",
       " 'KeyMarker': '',\n",
       " 'UploadIdMarker': '',\n",
       " 'NextKeyMarker': '',\n",
       " 'NextUploadIdMarker': '',\n",
       " 'MaxUploads': 1000,\n",
       " 'IsTruncated': False}"
      ]
     },
     "execution_count": 48,
     "metadata": {},
     "output_type": "execute_result"
    }
   ],
   "source": [
    "s3 = boto3.client('s3')\n",
    "r = s3.list_multipart_uploads(Bucket='bytes-rdd-test')\n",
    "r"
   ]
  },
  {
   "cell_type": "code",
   "execution_count": 47,
   "metadata": {},
   "outputs": [
    {
     "ename": "KeyError",
     "evalue": "'Uploads'",
     "output_type": "error",
     "traceback": [
      "\u001b[0;31m---------------------------------------------------------------------------\u001b[0m",
      "\u001b[0;31mKeyError\u001b[0m                                  Traceback (most recent call last)",
      "\u001b[0;32m<ipython-input-47-d4c5a5d2468d>\u001b[0m in \u001b[0;36m<module>\u001b[0;34m\u001b[0m\n\u001b[0;32m----> 1\u001b[0;31m \u001b[0mr\u001b[0m\u001b[0;34m[\u001b[0m\u001b[0;34m'Uploads'\u001b[0m\u001b[0;34m]\u001b[0m\u001b[0;34m[\u001b[0m\u001b[0;36m0\u001b[0m\u001b[0;34m]\u001b[0m\u001b[0;34m[\u001b[0m\u001b[0;34m'UploadId'\u001b[0m\u001b[0;34m]\u001b[0m\u001b[0;34m\u001b[0m\u001b[0;34m\u001b[0m\u001b[0m\n\u001b[0m",
      "\u001b[0;31mKeyError\u001b[0m: 'Uploads'"
     ]
    }
   ],
   "source": [
    "r['Uploads'][0]['UploadId']"
   ]
  },
  {
   "cell_type": "code",
   "execution_count": 45,
   "metadata": {},
   "outputs": [
    {
     "data": {
      "text/plain": [
       "{'ResponseMetadata': {'RequestId': 'PPWNA3GN95E1ZY9S',\n",
       "  'HostId': 'EYySdjSqR1fHRljeEP0JkzyoiUSLedWBJggazgZJw8jlv2t5fJkcIFrasJj6B7JHb99lGrci/8A=',\n",
       "  'HTTPStatusCode': 204,\n",
       "  'HTTPHeaders': {'x-amz-id-2': 'EYySdjSqR1fHRljeEP0JkzyoiUSLedWBJggazgZJw8jlv2t5fJkcIFrasJj6B7JHb99lGrci/8A=',\n",
       "   'x-amz-request-id': 'PPWNA3GN95E1ZY9S',\n",
       "   'date': 'Fri, 04 Feb 2022 05:25:09 GMT',\n",
       "   'server': 'AmazonS3'},\n",
       "  'RetryAttempts': 0}}"
      ]
     },
     "execution_count": 45,
     "metadata": {},
     "output_type": "execute_result"
    }
   ],
   "source": [
    "s3.abort_multipart_upload(Bucket='bytes-rdd-test',\n",
    "                                      Key='junk',\n",
    "                                      UploadId=r['Uploads'][0]['UploadId'])"
   ]
  },
  {
   "cell_type": "code",
   "execution_count": null,
   "metadata": {},
   "outputs": [],
   "source": []
  }
 ],
 "metadata": {
  "kernelspec": {
   "display_name": "Python 3",
   "language": "python",
   "name": "python3"
  },
  "language_info": {
   "codemirror_mode": {
    "name": "ipython",
    "version": 3
   },
   "file_extension": ".py",
   "mimetype": "text/x-python",
   "name": "python",
   "nbconvert_exporter": "python",
   "pygments_lexer": "ipython3",
   "version": "3.8.5"
  }
 },
 "nbformat": 4,
 "nbformat_minor": 4
}

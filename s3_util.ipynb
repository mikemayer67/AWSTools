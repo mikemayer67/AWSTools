{
 "cells": [
  {
   "cell_type": "code",
   "execution_count": 18,
   "metadata": {},
   "outputs": [],
   "source": [
    "import boto3"
   ]
  },
  {
   "cell_type": "code",
   "execution_count": 19,
   "metadata": {},
   "outputs": [
    {
     "data": {
      "text/plain": [
       "{'ResponseMetadata': {'RequestId': 'ZBSK1WD9C8HDWZEY',\n",
       "  'HostId': 'GVDpnUhEDuO5Zcdc1fZk+8id6QfZavqZ8+jmEenVx7UIbOqRND2nMPfROvXw89vIRBfPBg9AZIg=',\n",
       "  'HTTPStatusCode': 200,\n",
       "  'HTTPHeaders': {'x-amz-id-2': 'GVDpnUhEDuO5Zcdc1fZk+8id6QfZavqZ8+jmEenVx7UIbOqRND2nMPfROvXw89vIRBfPBg9AZIg=',\n",
       "   'x-amz-request-id': 'ZBSK1WD9C8HDWZEY',\n",
       "   'date': 'Sun, 06 Feb 2022 17:20:36 GMT',\n",
       "   'content-type': 'application/xml',\n",
       "   'transfer-encoding': 'chunked',\n",
       "   'server': 'AmazonS3'},\n",
       "  'RetryAttempts': 0},\n",
       " 'Bucket': 'bytes-rdd-test',\n",
       " 'KeyMarker': '',\n",
       " 'UploadIdMarker': '',\n",
       " 'NextKeyMarker': '',\n",
       " 'NextUploadIdMarker': '',\n",
       " 'MaxUploads': 1000,\n",
       " 'IsTruncated': False}"
      ]
     },
     "execution_count": 19,
     "metadata": {},
     "output_type": "execute_result"
    }
   ],
   "source": [
    "s3 = boto3.client('s3')\n",
    "r = s3.list_multipart_uploads(Bucket='bytes-rdd-test')\n",
    "r"
   ]
  },
  {
   "cell_type": "code",
   "execution_count": 17,
   "metadata": {},
   "outputs": [
    {
     "ename": "KeyError",
     "evalue": "'Uploads'",
     "output_type": "error",
     "traceback": [
      "\u001b[0;31m---------------------------------------------------------------------------\u001b[0m",
      "\u001b[0;31mKeyError\u001b[0m                                  Traceback (most recent call last)",
      "\u001b[0;32m<ipython-input-17-d4c5a5d2468d>\u001b[0m in \u001b[0;36m<module>\u001b[0;34m\u001b[0m\n\u001b[0;32m----> 1\u001b[0;31m \u001b[0mr\u001b[0m\u001b[0;34m[\u001b[0m\u001b[0;34m'Uploads'\u001b[0m\u001b[0;34m]\u001b[0m\u001b[0;34m[\u001b[0m\u001b[0;36m0\u001b[0m\u001b[0;34m]\u001b[0m\u001b[0;34m[\u001b[0m\u001b[0;34m'UploadId'\u001b[0m\u001b[0;34m]\u001b[0m\u001b[0;34m\u001b[0m\u001b[0;34m\u001b[0m\u001b[0m\n\u001b[0m",
      "\u001b[0;31mKeyError\u001b[0m: 'Uploads'"
     ]
    }
   ],
   "source": [
    "r['Uploads'][0]['UploadId']"
   ]
  },
  {
   "cell_type": "code",
   "execution_count": 13,
   "metadata": {},
   "outputs": [
    {
     "data": {
      "text/plain": [
       "{'ResponseMetadata': {'RequestId': '19BQ0ZWBE2VRDYGX',\n",
       "  'HostId': 'bdZpdWZWIYGrHdNxIwH/aneGb210GcbbJ0sHs5Q9axDTUVOtUDZCyBtWw1ugqynxk5JegE44pj8=',\n",
       "  'HTTPStatusCode': 204,\n",
       "  'HTTPHeaders': {'x-amz-id-2': 'bdZpdWZWIYGrHdNxIwH/aneGb210GcbbJ0sHs5Q9axDTUVOtUDZCyBtWw1ugqynxk5JegE44pj8=',\n",
       "   'x-amz-request-id': '19BQ0ZWBE2VRDYGX',\n",
       "   'date': 'Sun, 06 Feb 2022 17:00:27 GMT',\n",
       "   'server': 'AmazonS3'},\n",
       "  'RetryAttempts': 0}}"
      ]
     },
     "execution_count": 13,
     "metadata": {},
     "output_type": "execute_result"
    }
   ],
   "source": [
    "s3.abort_multipart_upload(Bucket='bytes-rdd-test',\n",
    "                                      Key='junk',\n",
    "                                      UploadId=r['Uploads'][0]['UploadId'])"
   ]
  },
  {
   "cell_type": "code",
   "execution_count": null,
   "metadata": {},
   "outputs": [],
   "source": []
  },
  {
   "cell_type": "code",
   "execution_count": null,
   "metadata": {},
   "outputs": [],
   "source": []
  }
 ],
 "metadata": {
  "kernelspec": {
   "display_name": "Python 3",
   "language": "python",
   "name": "python3"
  },
  "language_info": {
   "codemirror_mode": {
    "name": "ipython",
    "version": 3
   },
   "file_extension": ".py",
   "mimetype": "text/x-python",
   "name": "python",
   "nbconvert_exporter": "python",
   "pygments_lexer": "ipython3",
   "version": "3.8.5"
  }
 },
 "nbformat": 4,
 "nbformat_minor": 4
}
